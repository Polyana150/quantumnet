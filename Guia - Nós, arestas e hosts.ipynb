{
 "cells": [
  {
   "cell_type": "markdown",
   "metadata": {},
   "source": [
    "## Manipulando nós e links da rede\n",
    "Esse documento instrui a manipulação de nós e links da rede. Como acessar, alterar e criar as informações. <br> Feito em 14/05/2024"
   ]
  },
  {
   "cell_type": "code",
   "execution_count": 1,
   "metadata": {},
   "outputs": [],
   "source": [
    "# importando Network e Host do módulo components\n",
    "from quantumnet.components import Network, Host"
   ]
  },
  {
   "cell_type": "markdown",
   "metadata": {},
   "source": [
    "Para esse exemplo, vou instanciar uma rede e adicionar um host de cada vez:"
   ]
  },
  {
   "cell_type": "code",
   "execution_count": 6,
   "metadata": {},
   "outputs": [
    {
     "ename": "TypeError",
     "evalue": "PhysicalLayer.__init__() missing 1 required positional argument: 'physical_layer_id'",
     "output_type": "error",
     "traceback": [
      "\u001b[1;31m---------------------------------------------------------------------------\u001b[0m",
      "\u001b[1;31mTypeError\u001b[0m                                 Traceback (most recent call last)",
      "Cell \u001b[1;32mIn[6], line 2\u001b[0m\n\u001b[0;32m      1\u001b[0m \u001b[38;5;66;03m# instanciando a rede\u001b[39;00m\n\u001b[1;32m----> 2\u001b[0m rede \u001b[38;5;241m=\u001b[39m \u001b[43mNetwork\u001b[49m\u001b[43m(\u001b[49m\u001b[43m)\u001b[49m\n\u001b[0;32m      3\u001b[0m \u001b[38;5;66;03m# instanciando hosts\u001b[39;00m\n\u001b[0;32m      4\u001b[0m h1 \u001b[38;5;241m=\u001b[39m Host(\u001b[38;5;241m1\u001b[39m)\n",
      "File \u001b[1;32mc:\\Users\\Tavares\\Documents\\Quantum Poc\\quantumnet\\quantumnet\\components\\network.py:22\u001b[0m, in \u001b[0;36mNetwork.__init__\u001b[1;34m(self)\u001b[0m\n\u001b[0;32m     20\u001b[0m \u001b[38;5;28mself\u001b[39m\u001b[38;5;241m.\u001b[39m_network \u001b[38;5;241m=\u001b[39m NetworkLayer()\n\u001b[0;32m     21\u001b[0m \u001b[38;5;28mself\u001b[39m\u001b[38;5;241m.\u001b[39m_link \u001b[38;5;241m=\u001b[39m LinkLayer()\n\u001b[1;32m---> 22\u001b[0m \u001b[38;5;28mself\u001b[39m\u001b[38;5;241m.\u001b[39m_physical \u001b[38;5;241m=\u001b[39m \u001b[43mPhysicalLayer\u001b[49m\u001b[43m(\u001b[49m\u001b[43m)\u001b[49m\n\u001b[0;32m     23\u001b[0m \u001b[38;5;66;03m# Sobre a execução\u001b[39;00m\n\u001b[0;32m     24\u001b[0m \u001b[38;5;28mself\u001b[39m\u001b[38;5;241m.\u001b[39mlogger \u001b[38;5;241m=\u001b[39m Logger\u001b[38;5;241m.\u001b[39mget_instance()\n",
      "\u001b[1;31mTypeError\u001b[0m: PhysicalLayer.__init__() missing 1 required positional argument: 'physical_layer_id'"
     ]
    }
   ],
   "source": [
    "# instanciando a rede\n",
    "rede = Network()\n",
    "# instanciando hosts\n",
    "h1 = Host(1)\n",
    "h2 = Host(2)\n",
    "h3 = Host(3)\n",
    "# criando as conexões\n",
    "h1.add_connection(2)\n",
    "h1.add_connection(3)\n",
    "h2.add_connection(3)\n",
    "h3.add_connection(1)\n",
    "# adicionando hosts à rede\n",
    "rede.add_host(h1)\n",
    "rede.add_host(h2)\n",
    "rede.add_host(h3)\n",
    "# plotando a rede\n",
    "rede.draw()"
   ]
  },
  {
   "cell_type": "markdown",
   "metadata": {},
   "source": [
    "Com esse processo, um grafo é criado e a rede armazena esses hosts. Dessa forma, já é possível acessá-los."
   ]
  },
  {
   "cell_type": "code",
   "execution_count": 3,
   "metadata": {},
   "outputs": [
    {
     "name": "stdout",
     "output_type": "stream",
     "text": [
      "[1, 2, 3]\n",
      "[(1, 2), (1, 3), (2, 3)]\n",
      "[1, 2, 3]\n",
      "[(1, 2), (1, 3), (2, 3)]\n"
     ]
    }
   ],
   "source": [
    "# o acesso dos nós e arestas do grafo da rede pode ser feito diretamente pela rede\n",
    "print(rede.nodes)\n",
    "print(rede.edges)\n",
    "# ou pela propriedade graph da rede\n",
    "print(rede.graph.nodes)\n",
    "print(rede.graph.edges)"
   ]
  },
  {
   "cell_type": "markdown",
   "metadata": {},
   "source": [
    "A rede armazena os hosts em um dicionário com esse formato: ``{host_id: host}``, cuja chave ``host_id`` (inteiro) é uma propriedade do ``host`` (Host)."
   ]
  },
  {
   "cell_type": "code",
   "execution_count": 4,
   "metadata": {},
   "outputs": [
    {
     "name": "stdout",
     "output_type": "stream",
     "text": [
      "{1: <quantumnet.components.host.Host object at 0x000002BE60E23FB0>, 2: <quantumnet.components.host.Host object at 0x000002BE605CC110>, 3: <quantumnet.components.host.Host object at 0x000002BE605CC740>}\n"
     ]
    }
   ],
   "source": [
    "# acessando hosts da rede\n",
    "print(rede.hosts)"
   ]
  },
  {
   "cell_type": "markdown",
   "metadata": {},
   "source": [
    "O grafo não guarda as propriedades dos hosts. Ou seja, para acessar a memória do host, é preciso pegar dele, não do nó no grafo. Outras informações podem ser armazenadas nos nós, isso é feito por meio de dicionários. A cor do nó para o plot é um exemplo de uma dessas informações.\n",
    "\n",
    "Para acessar estas informações, usa-se ``grafo.nodes[label]``. A label, no nosso caso, será um inteiro, que é um ``host_id`` do host representado por aquele nó."
   ]
  },
  {
   "cell_type": "code",
   "execution_count": 5,
   "metadata": {},
   "outputs": [
    {
     "data": {
      "text/plain": [
       "{}"
      ]
     },
     "execution_count": 5,
     "metadata": {},
     "output_type": "execute_result"
    }
   ],
   "source": [
    "# acessando informações de um nó\n",
    "rede.graph.nodes[1]"
   ]
  },
  {
   "cell_type": "markdown",
   "metadata": {},
   "source": [
    "A cima, pode-se notar que nada foi adicionado ao nó. Dessa forma, a saída é um dicionário vazio. Para adicionar informações o processo é o seguinte:"
   ]
  },
  {
   "cell_type": "code",
   "execution_count": 6,
   "metadata": {},
   "outputs": [],
   "source": [
    "rede.graph.nodes[1]['apelido'] = 'Host 1'\n",
    "rede.graph.nodes[1]['cor'] = 'azul'\n",
    "rede.graph.nodes[1]['tamanho'] = 1.4"
   ]
  },
  {
   "cell_type": "markdown",
   "metadata": {},
   "source": [
    "Agora essas informações estão armazenadas no nó. Além disso, é possível também acessar essas informações de todos os nós de uma só vez."
   ]
  },
  {
   "cell_type": "code",
   "execution_count": 7,
   "metadata": {},
   "outputs": [
    {
     "name": "stdout",
     "output_type": "stream",
     "text": [
      "{'apelido': 'Host 1', 'cor': 'azul', 'tamanho': 1.4}\n",
      "[(1, {'apelido': 'Host 1', 'cor': 'azul', 'tamanho': 1.4}), (2, {}), (3, {})]\n",
      "[(1, 'Host 1'), (2, None), (3, None)]\n"
     ]
    }
   ],
   "source": [
    "# acessando informações de um nó\n",
    "print(rede.graph.nodes[1])\n",
    "# acessando todas as informações de todos os nós\n",
    "print(rede.graph.nodes.data())\n",
    "# acessando informações específicas de todos os nós\n",
    "print(rede.graph.nodes.data('apelido'))"
   ]
  },
  {
   "cell_type": "markdown",
   "metadata": {},
   "source": [
    "Para arestas, o processo é semelhante:"
   ]
  },
  {
   "cell_type": "code",
   "execution_count": 8,
   "metadata": {},
   "outputs": [
    {
     "name": "stdout",
     "output_type": "stream",
     "text": [
      "{}\n",
      "[(1, 2, {}), (1, 3, {}), (2, 3, {})]\n",
      "[(1, 2, None), (1, 3, None), (2, 3, None)]\n"
     ]
    }
   ],
   "source": [
    "# acessando informações de uma aresta\n",
    "print(rede.edges[1, 2])\n",
    "# acessando informações de todas as arestas\n",
    "print(rede.edges.data())\n",
    "# acessando informações específicas de todas as arestas\n",
    "print(rede.edges.data('peso'))"
   ]
  }
 ],
 "metadata": {
  "kernelspec": {
   "display_name": "Python 3",
   "language": "python",
   "name": "python3"
  },
  "language_info": {
   "codemirror_mode": {
    "name": "ipython",
    "version": 3
   },
   "file_extension": ".py",
   "mimetype": "text/x-python",
   "name": "python",
   "nbconvert_exporter": "python",
   "pygments_lexer": "ipython3",
   "version": "3.12.0"
  }
 },
 "nbformat": 4,
 "nbformat_minor": 2
}
