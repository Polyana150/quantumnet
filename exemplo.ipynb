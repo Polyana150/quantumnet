{
 "cells": [
  {
   "cell_type": "code",
   "execution_count": 1,
   "metadata": {},
   "outputs": [
    {
     "name": "stderr",
     "output_type": "stream",
     "text": [
      "2024-05-16 15:33:51,564: Host 1 adicionado aos hosts da rede.\n",
      "2024-05-16 15:33:51,567: Nó 1 adicionado ao grafo da rede.\n",
      "2024-05-16 15:33:51,567: Conexões do 1 adicionados ao grafo da rede.\n",
      "2024-05-16 15:33:51,568: Host 2 adicionado aos hosts da rede.\n",
      "2024-05-16 15:33:51,569: Host 3 adicionado aos hosts da rede.\n",
      "2024-05-16 15:33:51,572: Nó 3 adicionado ao grafo da rede.\n",
      "2024-05-16 15:33:51,573: Conexões do 3 adicionados ao grafo da rede.\n"
     ]
    },
    {
     "data": {
      "text/plain": [
       "EdgeView([(1, 2), (1, 3)])"
      ]
     },
     "execution_count": 1,
     "metadata": {},
     "output_type": "execute_result"
    },
    {
     "data": {
      "image/png": "[encoded data removed]",
      "text/plain": [
       "<Figure size 640x480 with 1 Axes>"
      ]
     },
     "metadata": {},
     "output_type": "display_data"
    }
   ],
   "source": [
    "from quantumnet.components import Network, Host\n",
    "from quantumnet.objects import Logger, Qubit\n",
    "\n",
    "Logger.activate(Logger)\n",
    "\n",
    "rede = Network()\n",
    "h1 = Host(1)\n",
    "h2 = Host(2)\n",
    "h3 = Host(3)\n",
    "\n",
    "h1.add_connection(2)\n",
    "h3.add_connection(1)\n",
    "\n",
    "# h2.add_connection('arthur')\n",
    "# h3.add_connection('david')\n",
    "\n",
    "rede.add_host(h1)\n",
    "rede.add_host(h2)\n",
    "rede.add_host(h3)\n",
    "\n",
    "rede.draw()\n",
    "\n",
    "rede._graph.edges\n"
   ]
  },
  {
   "cell_type": "code",
   "execution_count": 2,
   "metadata": {},
   "outputs": [
    {
     "name": "stdout",
     "output_type": "stream",
     "text": [
      "[1, 2, 3]\n",
      "[(1, 2), (1, 3)]\n"
     ]
    }
   ],
   "source": [
    "print(rede._graph.nodes)\n",
    "print(rede._graph.edges)\n"
   ]
  },
  {
   "cell_type": "code",
   "execution_count": 3,
   "metadata": {},
   "outputs": [
    {
     "name": "stderr",
     "output_type": "stream",
     "text": [
      "2024-05-16 15:33:52,417: Qubit 2 adicionado à memória do Host 1.\n"
     ]
    }
   ],
   "source": [
    "q = Qubit(2)\n",
    "h1.add_qubit(q)"
   ]
  },
  {
   "cell_type": "code",
   "execution_count": 4,
   "metadata": {},
   "outputs": [
    {
     "name": "stdout",
     "output_type": "stream",
     "text": [
      "1.0\n"
     ]
    }
   ],
   "source": [
    "print(h1.memory[0].get_initial_fidelity())"
   ]
  },
  {
   "cell_type": "code",
   "execution_count": 5,
   "metadata": {},
   "outputs": [
    {
     "name": "stderr",
     "output_type": "stream",
     "text": [
      "2024-05-16 15:33:52,600: Qubit 10 adicionado à memória do Host 1.\n",
      "2024-05-16 15:33:52,603: Qubit 10 criado com fidelidade inicial 0.5 e adicionado à memória do Host 1.\n"
     ]
    }
   ],
   "source": [
    "rede.add_qubit(1,10,0.5)"
   ]
  },
  {
   "cell_type": "code",
   "execution_count": 6,
   "metadata": {},
   "outputs": [
    {
     "name": "stdout",
     "output_type": "stream",
     "text": [
      "0.5\n"
     ]
    }
   ],
   "source": [
    "print(h1.memory[1].get_initial_fidelity())"
   ]
  }
 ],
 "metadata": {
  "kernelspec": {
   "display_name": "Python 3",
   "language": "python",
   "name": "python3"
  },
  "language_info": {
   "codemirror_mode": {
    "name": "ipython",
    "version": 3
   },
   "file_extension": ".py",
   "mimetype": "text/x-python",
   "name": "python",
   "nbconvert_exporter": "python",
   "pygments_lexer": "ipython3",
   "version": "3.9.2"
  }
 },
 "nbformat": 4,
 "nbformat_minor": 2
}
